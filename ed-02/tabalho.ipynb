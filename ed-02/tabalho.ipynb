{
  "nbformat": 4,
  "nbformat_minor": 0,
  "metadata": {
    "colab": {
      "provenance": [],
      "collapsed_sections": [],
      "authorship_tag": "ABX9TyNUM27QRM/5Zu+2T0VGo7vn",
      "include_colab_link": true
    },
    "kernelspec": {
      "name": "python3",
      "display_name": "Python 3"
    },
    "language_info": {
      "name": "python"
    }
  },
  "cells": [
    {
      "cell_type": "markdown",
      "metadata": {
        "id": "view-in-github",
        "colab_type": "text"
      },
      "source": [
        "<a href=\"https://colab.research.google.com/github/NKvinibrian/inteligencia-artificail/blob/main/ed-02/tabalho.ipynb\" target=\"_parent\"><img src=\"https://colab.research.google.com/assets/colab-badge.svg\" alt=\"Open In Colab\"/></a>"
      ]
    },
    {
      "cell_type": "code",
      "execution_count": 3,
      "metadata": {
        "colab": {
          "base_uri": "https://localhost:8080/"
        },
        "id": "7_8R8KwnNuIt",
        "outputId": "455a7273-4025-4df9-bd85-c964fcf54596"
      },
      "outputs": [
        {
          "output_type": "stream",
          "name": "stdout",
          "text": [
            "720\n"
          ]
        }
      ],
      "source": [
        "# 1) Escreva uma função que receba um número n e retorne o seu fatorial. \n",
        "def fatorial(n:int=None):\n",
        "  if n is None or n <= 1:\n",
        "    return 1\n",
        "  return n*fatorial(n-1)\n",
        "\n",
        "print(fatorial(n=6))\n",
        "  "
      ]
    },
    {
      "cell_type": "code",
      "source": [
        "# 2) Imprima na tela o fatorial de 0 até 10.\n",
        "def fatorial(n:int=None, t=1):\n",
        "  if n is None or t > n:\n",
        "    return 1\n",
        "  fat = t*fatorial(n, t+1)\n",
        "  print(fat)\n",
        "  return fat\n",
        "\n",
        "fatorial(n=10)"
      ],
      "metadata": {
        "colab": {
          "base_uri": "https://localhost:8080/"
        },
        "id": "j2GrB2JEOfRX",
        "outputId": "0d67fab3-dde9-451a-87a9-9420d72ab3eb"
      },
      "execution_count": 9,
      "outputs": [
        {
          "output_type": "stream",
          "name": "stdout",
          "text": [
            "10\n",
            "90\n",
            "720\n",
            "5040\n",
            "30240\n",
            "151200\n",
            "604800\n",
            "1814400\n",
            "3628800\n",
            "3628800\n"
          ]
        },
        {
          "output_type": "execute_result",
          "data": {
            "text/plain": [
              "3628800"
            ]
          },
          "metadata": {},
          "execution_count": 9
        }
      ]
    },
    {
      "cell_type": "code",
      "source": [
        "# 3) Armazene o fatorial de 0 até 10 em uma lista e imprima a lista usando print\n",
        "def fatorial(n:int=0): \n",
        "    lista = [0]\n",
        "    if n < 0: \n",
        "        return [0]\n",
        "\n",
        "    elif n == 0:\n",
        "        lista.append(n)\n",
        "        return [1]\n",
        "        \n",
        "    else: \n",
        "        fat = 1\n",
        "        while(n > 1): \n",
        "            fat *= n \n",
        "            n -= 1\n",
        "            lista.append(fat)\n",
        "        return lista \n",
        "\n",
        "fatorial(n=10)"
      ],
      "metadata": {
        "colab": {
          "base_uri": "https://localhost:8080/"
        },
        "id": "72ksOZJ4QKel",
        "outputId": "946ab5b2-bd71-4765-9711-17a0a70e9321"
      },
      "execution_count": 19,
      "outputs": [
        {
          "output_type": "execute_result",
          "data": {
            "text/plain": [
              "[0, 10, 90, 720, 5040, 30240, 151200, 604800, 1814400, 3628800]"
            ]
          },
          "metadata": {},
          "execution_count": 19
        }
      ]
    },
    {
      "cell_type": "code",
      "source": [
        "# 4) Imprima a lista de fatoriais de trás para frente.\n",
        "def fatorial(n:int=0): \n",
        "    lista = [0]\n",
        "    if n < 0: \n",
        "        return [0]\n",
        "\n",
        "    elif n == 0:\n",
        "        lista.insert(0,n)\n",
        "        return [1]\n",
        "        \n",
        "    else: \n",
        "        fat = 1\n",
        "        while(n > 1): \n",
        "            fat *= n \n",
        "            n -= 1\n",
        "            lista.insert(0,fat)\n",
        "        return lista \n",
        "\n",
        "print(*fatorial(n=10))"
      ],
      "metadata": {
        "colab": {
          "base_uri": "https://localhost:8080/"
        },
        "id": "u7T8IrxSSz0t",
        "outputId": "f36a8c97-34ed-4acf-f2b8-6270578b2b31"
      },
      "execution_count": 23,
      "outputs": [
        {
          "output_type": "stream",
          "name": "stdout",
          "text": [
            "3628800 1814400 604800 151200 30240 5040 720 90 10 0\n"
          ]
        }
      ]
    },
    {
      "cell_type": "code",
      "source": [
        "# 5) Escreva um programa que leia um valor monetário e indique o número mínimo de moedas que devem ser utilizadas para representa-lo. Por exemplo, se o usuário informar 2.35 a resposta deverá ser \n",
        "def troco(n:int=None):\n",
        "  if n is None:\n",
        "    return\n",
        "  \n",
        "  moedas = [1, 0.50, 0.25, 0.10, 0.01]\n",
        "  for i in moedas:\n",
        "    if n<0:\n",
        "      break\n",
        "    alt = n / i\n",
        "\n",
        "    if int(alt) >= 1:\n",
        "      print(f'{i:10.2f} * {int(alt)}'.replace('.', ','))\n",
        "      n = n-int(alt)*i\n",
        "    else:\n",
        "      print(f'{i:10.2f} * 0'.replace('.', ','))\n",
        "\n",
        "troco(n=2.35)"
      ],
      "metadata": {
        "colab": {
          "base_uri": "https://localhost:8080/"
        },
        "id": "9dGpyY0MTzY7",
        "outputId": "f3079b31-2e1a-4f5f-ac3a-28447aba8a69"
      },
      "execution_count": 6,
      "outputs": [
        {
          "output_type": "stream",
          "name": "stdout",
          "text": [
            "      1,00 * 2\n",
            "      0,50 * 0\n",
            "      0,25 * 1\n",
            "      0,10 * 1\n",
            "      0,01 * 0\n"
          ]
        }
      ]
    }
  ]
}